{
 "metadata": {
  "language_info": {
   "codemirror_mode": {
    "name": "ipython",
    "version": 3
   },
   "file_extension": ".py",
   "mimetype": "text/x-python",
   "name": "python",
   "nbconvert_exporter": "python",
   "pygments_lexer": "ipython3",
   "version": "3.9.0-final"
  },
  "orig_nbformat": 2,
  "kernelspec": {
   "name": "python3",
   "display_name": "Python 3.9.0 64-bit",
   "metadata": {
    "interpreter": {
     "hash": "b8bdd4e700647ba2b08c59e5df8b7da1dcf50a218bcd4c1bcd9b3dc92e8788e5"
    }
   }
  }
 },
 "nbformat": 4,
 "nbformat_minor": 2,
 "cells": [
  {
   "cell_type": "code",
   "execution_count": 3,
   "metadata": {},
   "outputs": [
    {
     "output_type": "stream",
     "name": "stdout",
     "text": [
      "1.7354943656730547e+17\n"
     ]
    }
   ],
   "source": [
    "import math\n",
    "\n",
    "innstråling = 1361 #watt/m2\n",
    "\n",
    "radius = 6.371e6\n",
    "\n",
    "stråling = innstråling*math.pi*radius**2\n",
    "\n",
    "print(stråling)\n",
    "\n",
    "sigma = 5.670372e-8\n",
    "\n",
    "#stråling jorda = energi_ut\n",
    "\n",
    "sigma*T**4"
   ]
  },
  {
   "cell_type": "code",
   "execution_count": null,
   "metadata": {},
   "outputs": [],
   "source": []
  }
 ]
}