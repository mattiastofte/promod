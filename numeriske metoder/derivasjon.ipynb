{
 "metadata": {
  "language_info": {
   "codemirror_mode": {
    "name": "ipython",
    "version": 3
   },
   "file_extension": ".py",
   "mimetype": "text/x-python",
   "name": "python",
   "nbconvert_exporter": "python",
   "pygments_lexer": "ipython3",
   "version": "3.9.0-final"
  },
  "orig_nbformat": 2,
  "kernelspec": {
   "name": "python3",
   "display_name": "Python 3.9.0 64-bit",
   "metadata": {
    "interpreter": {
     "hash": "aee8b7b246df8f9039afb4144a1f6fd8d2ca17a180786b69acc140d282b71a49"
    }
   }
  }
 },
 "nbformat": 4,
 "nbformat_minor": 2,
 "cells": [
  {
   "source": [
    "## Numerisk derivasjon\n",
    "Vi tilnærmer grenseverdien med en liten $ \\Delta x $\n",
    "\n",
    "$ f(x)=\\frac{f(x+\\Delta x)-f(x)}{\\Delta x} $"
   ],
   "cell_type": "markdown",
   "metadata": {}
  },
  {
   "cell_type": "code",
   "execution_count": 30,
   "metadata": {},
   "outputs": [
    {
     "output_type": "stream",
     "name": "stdout",
     "text": [
      "0.1: har en feil på 0.100000000000002\n0.01: har en feil på 0.010000000000001\n0.001: har en feil på 0.000999999999697\n0.0001: har en feil på 9.9999999172e-05\n1e-05: har en feil på 1.000001393e-05\n1e-06: har en feil på 9.99924367e-07\n1e-07: har en feil på 1.01087807e-07\n1e-08: har en feil på 1.2154942e-08\n1e-09: har en feil på 1.65480742e-07\n1e-10: har en feil på 1.65480742e-07\n1e-11: har en feil på 1.65480742e-07\n1e-12: har en feil på 0.000177801164682\n1e-13: har en feil på 0.001598555674718\n1e-14: har en feil på 0.001598555674718\n1e-15: har en feil på 0.220446049250313\n1e-16: har en feil på 2.0\n"
     ]
    }
   ],
   "source": [
    "import math\n",
    "def f(x):\n",
    "    return x**2\n",
    "\n",
    "def derivert(f, x, dx):\n",
    "    derivert =  (f(x + dx) - f(x)) / dx\n",
    "    return derivert\n",
    "\n",
    "# LØKKE FOR Å GENERERE LISTE MED STANDARDFORMER\n",
    "verdier = []\n",
    "for n in range(16):\n",
    "    verdier.append(float(f'1E-{n+1}'))\n",
    "\n",
    "for standardform in verdier:\n",
    "    print(f'{standardform}: har en feil på {round(abs(2-derivert(f,1, standardform)),15)}')\n",
    "\n"
   ]
  },
  {
   "cell_type": "code",
   "execution_count": null,
   "metadata": {},
   "outputs": [],
   "source": []
  }
 ]
}