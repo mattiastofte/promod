{
 "metadata": {
  "language_info": {
   "codemirror_mode": {
    "name": "ipython",
    "version": 3
   },
   "file_extension": ".py",
   "mimetype": "text/x-python",
   "name": "python",
   "nbconvert_exporter": "python",
   "pygments_lexer": "ipython3",
   "version": "3.9.0-final"
  },
  "orig_nbformat": 2,
  "kernelspec": {
   "name": "python3",
   "display_name": "Python 3.9.0 64-bit",
   "metadata": {
    "interpreter": {
     "hash": "b8bdd4e700647ba2b08c59e5df8b7da1dcf50a218bcd4c1bcd9b3dc92e8788e5"
    }
   }
  }
 },
 "nbformat": 4,
 "nbformat_minor": 2,
 "cells": [
  {
   "source": [
    "## Temperatur og Jordkloden\n",
    "Temperaturen på jorda blir bestemt av ett komplekst system. Det vi kan gjøre er å lage enklere modeller som integrerer de viktigste og største faktorene som påvirker systemet. På denne måten kan vi tilnærme oss en verdi temperaturen."
   ],
   "cell_type": "markdown",
   "metadata": {}
  },
  {
   "source": [
    "## 2 Teori\n",
    "\n",
    "## 2.1 Stefan-Boltzmann lov\n",
    "\n",
    "Alle gjenstander som har en temperatur over absolutt nullpunkt vil utgi varmestråling. Varmestråling er elektromagnetisk stråling som fører varme (energi) til eller fra et system. Det er mulig å beregne varmestrålingen fra en gjenstand når man kjenner gjenstandens temperatur og areal ved å bruke Stefan-Boltzmanns naturlov. \n",
    "\n",
    "## $S = \\sigma*T^4$\n",
    "<br>\n",
    "<br>\n",
    "\n",
    "der σ er Stefan-Boltzmanns konstant og er lik 5,6703∗10−8 W/(m2K4), og temperaturen T er målt i Kelvin. S vil da være lik strålingen fra et legeme gitt i W/m2, og man må tenke på arealet til legemet for å få den fullstendige strålingen.\n",
    "<br>\n",
    "<br>\n",
    "\n",
    "## 2.2 Kalkulering av gjennomsnittlig elektromagnetisk stråling\n",
    "\n",
    "Solkonstanten er målt gjennomsnittlig elektromagnetisk stråling (energi) fra solen som treffer vertikalt på jordklodens atmosfære. Energien som treffer toppen av atmosfæren har bare variert med 0.2 prosent på 400 år. Det blir derfor kalt for en konstant. Denne konstanten er målt til 1361 W/m2. Det går an å kalkulere gjennomsnittlig elektromagnetisk stråling som treffer en planet ved å bruke solens varmestråling og distanse mellom solen og planeten i solsystemet.\n",
    "\n",
    "## $S = \\frac{r_{sol}^{2}}{distanse^{2}} * stråling_{sol}$\n",
    "\n",
    "hvor S er den gjennomsnittlige strålingen som treffer planeten i W/m2.\n",
    "<br>\n",
    "<br>\n",
    "\n",
    "## 2.3 Energiprinsippet\n",
    "\n",
    "Energiprinsippet er loven om at energi er konstant. Det vil si at energi ikke kan skapes eller tilintetgjøres. Vi ser på planeter som et lukket system som blir tilført varmestråling fra verdensrommet (hovedsakelig solen), og sender ut varmestråling til verdensrommet. Det gir tre muligheter:<br><br>\n",
    "1. Mer stråling tilført enn sendt ut. Planeten varmes opp over tid. <br> \n",
    "2. Mer stråling sendt ut enn tilført. Planeten blir kaldere over tid. <br>\n",
    "3. Energi_inn = Energi_ut. Temperaturen på planeten er konstant.<br>\n",
    "\n",
    "<br>\n",
    "<br>\n",
    "\n",
    "## 2.4 Forenklet atmosfære\n",
    "\n",
    "Jordkloden har en gjennomsnittlig positiv temperatur på grunn av atmosfæren. Denne temperaturen er målt til ca. 15 C ̊. Det vil være nødvendig å legge til et utrykk for atmosfæren for å ha en modell av jordkloden som gir temperaturverdier i nærheten av de målte verdiene. En metode for dette er å bruke tre antagelser (og ingen av antagelsene er faktisk sanne!) for å få et forenklet utrykk av atmosfæren. Disse antagelsene er:\n",
    "<br><br> \n",
    "\n",
    "1. Atmosfæren har en konstant temperatur - dvs. at atmosfæren er en stor blokk hvor hele blokken har den samme temperaturen.<br> \n",
    "2. Atmosfæren er fullstendig gjennomsiktig for stråling fra solen - dvs. at all stråling fra solen treffer jordoverflaten.<br> \n",
    "3. Atmosfæren tar imot all stråling fra jorden.<br> \n",
    "\n",
    "I figuren nedenfor er situasjonen tegnet. Atmosfæren er en tenkt blokk som vist i grå farge. Strålingen fra solen går rett igjennom atmosfæren og treffer jordoverflaten (1). Jordkloden sender ut varmestråling og all strålingen treffer atmosfæren (3). Situasjonen til atmosfæren vil da være at den sender ut stråling til verdensrommet, men også stråling tilbake til jorden (2). Stefan-Boltzmanns lov vil gjelde for både jordkloden og atmosfæren.\n",
    "\n",
    "\n"
   ],
   "cell_type": "markdown",
   "metadata": {}
  },
  {
   "source": [
    "## OPPGAVE 1\n",
    "Gjennomsnittlig varmestråling som treffer vertikalt på jordklodens atmosfære."
   ],
   "cell_type": "markdown",
   "metadata": {}
  },
  {
   "source": [
    "sigma = 5.6703E-8\n",
    "temp_sun = 5778\n",
    "radiation_sun = sigma * temp_sun**4\n",
    "radius_sun = 69634010E3\n",
    "distance_earth_sun = 14960000010E3\n",
    "radiation_earth = round(((radius_sun**2)/(distance_earth_sun**2))*radiation_sun,1)\n",
    "print(f'den gjennomsnittlige varmestrålingen som treffer vertikalt på jordkloden er ca {radiation_earth}')\n"
   ],
   "cell_type": "code",
   "metadata": {},
   "execution_count": 15,
   "outputs": [
    {
     "output_type": "stream",
     "name": "stdout",
     "text": [
      "den gjennomsnittlige varmestrålingen som treffer vertikalt på jordkloden er ca 1369.3\n"
     ]
    }
   ]
  },
  {
   "source": [
    "## OPPGAVE 2\n",
    "\n",
    "### Stråling inn\n",
    "Bruk energiprinsippet og Stefan-Boltzmanns lov til å lage et utrykk for gjennomsnittlig temperatur på jorden. Noe av innstrålingen fra solen vil bli reflektert, og målet for refleksjonen til en flate kalles albedo. Legg til denne refleksjonsfaktoren for jordkloden og kalkuler temperaturen på jorden. Anta at temperaturen på planeten er konstant, og at planeten er en flat sirkel.\n",
    "Hvorfor kan vi anta at planeten er en flat sirkel?\n",
    "gjennomsnittlig temperatur på jordkloden er målt til ca +15C◦, diskuter resultatet dit opp mot den målte temperaturen.\n",
    "\n",
    "Kan omforme Stefan-Boltzmanns lov til å gi ett utrykk for gjennomsnittlig temperatur på jorden:\n",
    "\n",
    "## $P_{in} = S * \\pi * r^{2}$\n",
    "\n",
    "I tillegg vi implementere en albedo (refleksjonsfaktor) i formelen.\n",
    "\n",
    "## $P_{in} = S * \\pi * r^{2} * (1-albedo)$\n",
    "\n",
    "For å bestemme stråling ut kan vi gå ut ifra at jorden oppfører seg som ett svart legeme. Den totale energien som blir strålt ut fra \n"
   ],
   "cell_type": "markdown",
   "metadata": {}
  },
  {
   "source": [
    "import math\n",
    "albedo_earth = 0.3\n",
    "radius_earth = 6371E3\n",
    "\n",
    "P_in = radiation_earth * math.pi**2 * (1-albedo_earth)"
   ],
   "cell_type": "code",
   "metadata": {},
   "execution_count": 21,
   "outputs": []
  },
  {
   "source": [
    "## Stråling ut\n",
    "For å bestemme hastigheten på utgående energi P_out tilnærmer vi jorden som en svart kropp med overflatetemperatur. Så er den totale energitakten som sendes ut av jordoverflaten P_out, produktet av energistrømstettheten som utstråles per enhetsareal (i henhold til Stefan-Boltzmann-loven) og jordens overflateareal.\n",
    "\n",
    "$P_{out} = \\sigma T_{j}^4*4\\pi r_j^2$\n",
    "\n",
    "Ettersom gjennomsnittstemperaturen på jorda er konstant kan vi sette P_in i P_out.\n",
    "\n",
    "$P_{in} = P_{out}$<br> \n",
    "$S * \\pi * r^{2} * (1-albedo) = \\sigma T_{j}^4*4\\pi r_j^2$<br> \n",
    "$T_{j} = \\sqrt[4]{\\frac{(1-albedo)*S}{4\\sigma}}$"
   ],
   "cell_type": "markdown",
   "metadata": {}
  },
  {
   "cell_type": "code",
   "execution_count": 19,
   "metadata": {},
   "outputs": [
    {
     "output_type": "stream",
     "name": "stdout",
     "text": [
      "255.0\n"
     ]
    }
   ],
   "source": [
    "T_earth = round((((1-albedo_earth)*radiation_earth)/(4*sigma))**(1/4),1)\n",
    "\n",
    "print(T_earth)"
   ]
  },
  {
   "source": [
    "##\n",
    "Dette gir oss en overflate temperatur på 255 kelvin, eller -18.15 grader celcius. Dette er korrekt for vår modell, hvor det ble antatt at jorden er et lukket system med en rett overflate omgitt av et vakuum. Dette er imidlertid ikke gyldig for jordoverflaten, siden vi i tillegg har en atmosfære som påvirker strålingsbalansen betydelig."
   ],
   "cell_type": "markdown",
   "metadata": {}
  },
  {
   "cell_type": "code",
   "execution_count": null,
   "metadata": {},
   "outputs": [],
   "source": [
    "## Atmosfære\n",
    "\n",
    "For å kalkulere atmosfæren må jeg legge til flere ledd i systemet vårt.\n",
    "Nye antakelser av modellen:\n",
    "- Ett lags atmosfære\n",
    "- Transparent til stråling inn \n",
    "\n",
    "$P_{sun} = P_{out} = P_{in}$\n",
    "$P_{E} = P_{sun} + P_{in}$\n",
    "$P_{E} = 2P_{sun}$\n",
    "\n",
    "Energien som blir sendt ut er forsatt den samme som energien som blir sendt inn."
   ]
  },
  {
   "cell_type": "code",
   "execution_count": 23,
   "metadata": {},
   "outputs": [
    {
     "output_type": "stream",
     "name": "stdout",
     "text": [
      "303.2\n"
     ]
    }
   ],
   "source": [
    "T_earth = round(((2*(1-albedo_earth)*radiation_earth)/(4*sigma))**(1/4),1)\n",
    "print(T_earth)\n"
   ]
  },
  {
   "cell_type": "code",
   "execution_count": null,
   "metadata": {},
   "outputs": [],
   "source": []
  }
 ]
}