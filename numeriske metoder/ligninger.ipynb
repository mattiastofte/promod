{
 "metadata": {
  "language_info": {
   "codemirror_mode": {
    "name": "ipython",
    "version": 3
   },
   "file_extension": ".py",
   "mimetype": "text/x-python",
   "name": "python",
   "nbconvert_exporter": "python",
   "pygments_lexer": "ipython3",
   "version": "3.9.0-final"
  },
  "orig_nbformat": 2,
  "kernelspec": {
   "name": "python3",
   "display_name": "Python 3.9.0 64-bit",
   "metadata": {
    "interpreter": {
     "hash": "aee8b7b246df8f9039afb4144a1f6fd8d2ca17a180786b69acc140d282b71a49"
    }
   }
  }
 },
 "nbformat": 4,
 "nbformat_minor": 2,
 "cells": [
  {
   "source": [
    "## Ligninger"
   ],
   "cell_type": "markdown",
   "metadata": {}
  },
  {
   "source": [
    "### Halveringsmetoden"
   ],
   "cell_type": "markdown",
   "metadata": {}
  },
  {
   "cell_type": "code",
   "execution_count": 45,
   "metadata": {},
   "outputs": [
    {
     "output_type": "stream",
     "name": "stdout",
     "text": [
      "[-2.16937, -0.89383, 2.29116]\n"
     ]
    }
   ],
   "source": [
    "import math\n",
    "import numpy as np\n",
    "i = lambda x: x**5 - 5*x**3 - 3\n",
    "\n",
    "def scan(f,interval,steps):\n",
    "    x_values = np.linspace(interval[0],interval[1],steps)\n",
    "    step = (interval[1] - interval[0]) / steps\n",
    "    zero_points = []\n",
    "    if f(x_values[0]) > 0:\n",
    "        z = True\n",
    "    else:\n",
    "        z = False\n",
    "    for x in x_values:\n",
    "        if f(x) < 0 and z == True:\n",
    "            z = False\n",
    "            zero_points.append([x-2*step,x])\n",
    "        elif f(x) > 0 and z == False:\n",
    "            z = True\n",
    "            zero_points.append([x-2*step,x])\n",
    "    return zero_points\n",
    "\n",
    "def solve(a,b,f,steps=10000,tol=1E-8):\n",
    "    intervals = scan(f,[a,b],steps)\n",
    "    solutions = []\n",
    "    for interval in intervals:\n",
    "        a = interval[0]\n",
    "        b = interval[1]\n",
    "        m = (a+b)/2\n",
    "        while abs(f(m)) >= tol:\n",
    "            if f(a)*f(m) < 0:\n",
    "                b = m\n",
    "            elif f(b)*f(m) < 0:\n",
    "                a = m\n",
    "            m = (a+b)/2\n",
    "        solutions.append(round(m,5))\n",
    "    return solutions\n",
    "\n",
    "print(solve(-1000,1000,i,10000))"
   ]
  },
  {
   "source": [
    "### OPPGAVER"
   ],
   "cell_type": "markdown",
   "metadata": {}
  },
  {
   "cell_type": "code",
   "execution_count": 43,
   "metadata": {},
   "outputs": [
    {
     "output_type": "stream",
     "name": "stdout",
     "text": [
      "5.53298209\n"
     ]
    }
   ],
   "source": [
    "# OPPGAVE 1\n"
   ]
  },
  {
   "cell_type": "code",
   "execution_count": null,
   "metadata": {},
   "outputs": [],
   "source": []
  }
 ]
}