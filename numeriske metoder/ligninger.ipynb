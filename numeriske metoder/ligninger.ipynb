{
 "metadata": {
  "language_info": {
   "codemirror_mode": {
    "name": "ipython",
    "version": 3
   },
   "file_extension": ".py",
   "mimetype": "text/x-python",
   "name": "python",
   "nbconvert_exporter": "python",
   "pygments_lexer": "ipython3",
   "version": "3.9.0-final"
  },
  "orig_nbformat": 2,
  "kernelspec": {
   "name": "python3",
   "display_name": "Python 3.9.0 64-bit",
   "metadata": {
    "interpreter": {
     "hash": "aee8b7b246df8f9039afb4144a1f6fd8d2ca17a180786b69acc140d282b71a49"
    }
   }
  }
 },
 "nbformat": 4,
 "nbformat_minor": 2,
 "cells": [
  {
   "source": [
    "## Ligninger"
   ],
   "cell_type": "markdown",
   "metadata": {}
  },
  {
   "source": [
    "### Halveringsmetoden"
   ],
   "cell_type": "markdown",
   "metadata": {}
  },
  {
   "cell_type": "code",
   "execution_count": null,
   "metadata": {},
   "outputs": [],
   "source": [
    "def scan(f,interval,steps):\n",
    "    x_values = np.linspace(interval[0],interval[1],steps)\n",
    "    step = (interval[1] - interval[0]) / steps\n",
    "    zero_points = []\n",
    "    if f(x_values[0]) > 0:\n",
    "        z = True\n",
    "    else:\n",
    "        z = False\n",
    "    for x in x_values:\n",
    "        if f(x) < 0 and z == True:\n",
    "            z = False\n",
    "            zero_points.append([x-2*step,x])\n",
    "        elif f(x) > 0 and z == False:\n",
    "            z = True\n",
    "            zero_points.append([x-2*step,x])\n",
    "    return zero_points\n",
    "\n",
    "def scan2(f,interval,steps,tol=1E-8):\n",
    "    x_values = np.linspace(interval[0],interval[1],steps)\n",
    "    step = (interval[1] - interval[0]) / steps\n",
    "    intervals = []\n",
    "    solutions = []\n",
    "    for x in x_values[:-1]:\n",
    "        if f(x)*f(x+1) > 0:\n",
    "            pass\n",
    "        elif f(x)*f(x+1) = 0:\n",
    "            if f(x) = 0:\n",
    "                solutions.append(f(x))\n",
    "        else:\n",
    "            intervals.append([x,x+1*step])\n",
    "    return intervals, solutions"
   ]
  },
  {
   "cell_type": "code",
   "execution_count": 78,
   "metadata": {
    "tags": []
   },
   "outputs": [
    {
     "output_type": "stream",
     "name": "stdout",
     "text": [
      "x_0: round(m,5)\n"
     ]
    },
    {
     "output_type": "error",
     "ename": "KeyboardInterrupt",
     "evalue": "",
     "traceback": [
      "\u001b[0;31m---------------------------------------------------------------------------\u001b[0m",
      "\u001b[0;31mKeyboardInterrupt\u001b[0m                         Traceback (most recent call last)",
      "\u001b[0;32m<ipython-input-78-d877c4397f4e>\u001b[0m in \u001b[0;36m<module>\u001b[0;34m\u001b[0m\n\u001b[1;32m     35\u001b[0m \u001b[0;34m\u001b[0m\u001b[0m\n\u001b[1;32m     36\u001b[0m \u001b[0mtid\u001b[0m \u001b[0;34m=\u001b[0m \u001b[0mtime\u001b[0m\u001b[0;34m.\u001b[0m\u001b[0mtime\u001b[0m\u001b[0;34m(\u001b[0m\u001b[0;34m)\u001b[0m\u001b[0;34m\u001b[0m\u001b[0;34m\u001b[0m\u001b[0m\n\u001b[0;32m---> 37\u001b[0;31m \u001b[0msolve\u001b[0m\u001b[0;34m(\u001b[0m\u001b[0;34m-\u001b[0m\u001b[0;36m1000\u001b[0m\u001b[0;34m,\u001b[0m\u001b[0;36m1000\u001b[0m\u001b[0;34m,\u001b[0m\u001b[0mi\u001b[0m\u001b[0;34m,\u001b[0m\u001b[0;36m1000\u001b[0m\u001b[0;34m)\u001b[0m\u001b[0;34m\u001b[0m\u001b[0;34m\u001b[0m\u001b[0m\n\u001b[0m\u001b[1;32m     38\u001b[0m \u001b[0mprint\u001b[0m\u001b[0;34m(\u001b[0m\u001b[0;34mf'det tokk: {time.time()-tid}'\u001b[0m\u001b[0;34m)\u001b[0m\u001b[0;34m\u001b[0m\u001b[0;34m\u001b[0m\u001b[0m\n",
      "\u001b[0;32m<ipython-input-78-d877c4397f4e>\u001b[0m in \u001b[0;36msolve\u001b[0;34m(a, b, f, steps, tol)\u001b[0m\n\u001b[1;32m     28\u001b[0m             \u001b[0;32melif\u001b[0m \u001b[0mf\u001b[0m\u001b[0;34m(\u001b[0m\u001b[0mb\u001b[0m\u001b[0;34m)\u001b[0m\u001b[0;34m*\u001b[0m\u001b[0mf\u001b[0m\u001b[0;34m(\u001b[0m\u001b[0mm\u001b[0m\u001b[0;34m)\u001b[0m \u001b[0;34m<\u001b[0m \u001b[0;36m0\u001b[0m\u001b[0;34m:\u001b[0m\u001b[0;34m\u001b[0m\u001b[0;34m\u001b[0m\u001b[0m\n\u001b[1;32m     29\u001b[0m                 \u001b[0ma\u001b[0m \u001b[0;34m=\u001b[0m \u001b[0mm\u001b[0m\u001b[0;34m\u001b[0m\u001b[0;34m\u001b[0m\u001b[0m\n\u001b[0;32m---> 30\u001b[0;31m             \u001b[0mm\u001b[0m \u001b[0;34m=\u001b[0m \u001b[0;34m(\u001b[0m\u001b[0ma\u001b[0m\u001b[0;34m+\u001b[0m\u001b[0mb\u001b[0m\u001b[0;34m)\u001b[0m\u001b[0;34m/\u001b[0m\u001b[0;36m2\u001b[0m\u001b[0;34m\u001b[0m\u001b[0;34m\u001b[0m\u001b[0m\n\u001b[0m\u001b[1;32m     31\u001b[0m         \u001b[0msolutions\u001b[0m\u001b[0;34m.\u001b[0m\u001b[0mappend\u001b[0m\u001b[0;34m(\u001b[0m\u001b[0mround\u001b[0m\u001b[0;34m(\u001b[0m\u001b[0mm\u001b[0m\u001b[0;34m,\u001b[0m\u001b[0;36m5\u001b[0m\u001b[0;34m)\u001b[0m\u001b[0;34m)\u001b[0m\u001b[0;34m\u001b[0m\u001b[0;34m\u001b[0m\u001b[0m\n\u001b[1;32m     32\u001b[0m         \u001b[0mprint\u001b[0m\u001b[0;34m(\u001b[0m\u001b[0;34mf'x_{n}: round(m,5)'\u001b[0m\u001b[0;34m)\u001b[0m\u001b[0;34m\u001b[0m\u001b[0;34m\u001b[0m\u001b[0m\n",
      "\u001b[0;31mKeyboardInterrupt\u001b[0m: "
     ]
    }
   ],
   "source": [
    "import math\n",
    "import numpy as np\n",
    "import time\n",
    "i = lambda x: 1/math.cos(x**2)+10\n",
    "\n",
    "def solve(a,b,f,steps=10000,tol=1E-8):\n",
    "    x_values = np.linspace(a,b,steps)\n",
    "    step = (b-a) / steps\n",
    "    intervals = []\n",
    "    solutions = []\n",
    "    n = 0\n",
    "    for x in x_values[:-1]:\n",
    "        if f(x) * f(x+step) > 0:\n",
    "            pass\n",
    "        elif abs(f(x) * f(x+step)) == 0:\n",
    "            if f(x) == 0:\n",
    "                solutions.append(x)\n",
    "        else:\n",
    "            #print(f'f(x) = {f(x)}, f(x+1) = {f(x+step)}')\n",
    "            intervals.append([x,x+step])\n",
    "    for interval in intervals:\n",
    "        a = interval[0]\n",
    "        b = interval[1]\n",
    "        m = (a+b)/2\n",
    "        while abs(f(m)) >= tol:\n",
    "            if f(a)*f(m) < 0:\n",
    "                b = m\n",
    "            elif f(b)*f(m) < 0:\n",
    "                a = m\n",
    "            m = (a+b)/2\n",
    "        solutions.append(round(m,5))\n",
    "        print(f'x_{n}: {round(m,5)}')\n",
    "        n += 1\n",
    "    return solutions\n",
    "\n",
    "tid = time.time()\n",
    "solve(-1000,1000,i,1000)\n",
    "print(f'det tokk: {time.time()-tid}')"
   ]
  },
  {
   "source": [
    "### OPPGAVER"
   ],
   "cell_type": "markdown",
   "metadata": {}
  },
  {
   "cell_type": "code",
   "execution_count": 43,
   "metadata": {},
   "outputs": [
    {
     "output_type": "stream",
     "name": "stdout",
     "text": [
      "5.53298209\n"
     ]
    }
   ],
   "source": [
    "# OPPGAVE 1"
   ]
  },
  {
   "cell_type": "code",
   "execution_count": null,
   "metadata": {},
   "outputs": [],
   "source": []
  }
 ]
}