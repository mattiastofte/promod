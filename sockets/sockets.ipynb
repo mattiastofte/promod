{
 "metadata": {
  "language_info": {
   "codemirror_mode": {
    "name": "ipython",
    "version": 3
   },
   "file_extension": ".py",
   "mimetype": "text/x-python",
   "name": "python",
   "nbconvert_exporter": "python",
   "pygments_lexer": "ipython3",
   "version": "3.9.0-final"
  },
  "orig_nbformat": 2,
  "kernelspec": {
   "name": "Python 3.9.0 64-bit",
   "display_name": "Python 3.9.0 64-bit",
   "metadata": {
    "interpreter": {
     "hash": "a0ded08c67edfe2a4354d36b10e2f98b3ecfce6631b76726d618bad84dd97c1f"
    }
   }
  }
 },
 "nbformat": 4,
 "nbformat_minor": 2,
 "cells": [
  {
   "source": [
    "# primary socket API functions\n",
    "socket()\n",
    "bind()\n",
    "listen()\n",
    "accept()\n",
    "connect()\n",
    "connect_ex()\n",
    "send()\n",
    "recv()\n",
    "close()"
   ],
   "cell_type": "code",
   "metadata": {},
   "execution_count": null,
   "outputs": []
  },
  {
   "cell_type": "code",
   "execution_count": null,
   "metadata": {},
   "outputs": [],
   "source": [
    "# TCP Sockets\n",
    "\n",
    "# Specifies that we want to use TCP\n",
    "socket.SOCK_STREAM \n",
    "\n",
    "# Transmission Control Protocol is reliable, because packets dropped are detected and retransmitted by the sender. It also has in-order transmission, so data is read in the order it was sent by the sender.\n",
    "\n",
    "# In contrast, User Datagram Protocol (UDP) sockets created with socket.SOCK_DGRAM aren’t reliable, and data read by the receiver can be out-of-order from the sender’s writes.\n",
    "\n"
   ]
  }
 ]
}