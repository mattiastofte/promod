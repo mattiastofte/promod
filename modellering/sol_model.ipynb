{
 "metadata": {
  "language_info": {
   "codemirror_mode": {
    "name": "ipython",
    "version": 3
   },
   "file_extension": ".py",
   "mimetype": "text/x-python",
   "name": "python",
   "nbconvert_exporter": "python",
   "pygments_lexer": "ipython3",
   "version": "3.9.0-final"
  },
  "orig_nbformat": 2,
  "kernelspec": {
   "name": "python3",
   "display_name": "Python 3.9.0 64-bit",
   "metadata": {
    "interpreter": {
     "hash": "aee8b7b246df8f9039afb4144a1f6fd8d2ca17a180786b69acc140d282b71a49"
    }
   }
  }
 },
 "nbformat": 4,
 "nbformat_minor": 2,
 "cells": [
  {
   "source": [
    "Vi kan se på jorda som en sirkel med areal $r^2*\\pi$\n",
    "\n",
    "### Stefan Boltzmanns Lov\n",
    "* Utstråling sort legeme\n",
    "** $S = \\sigma * T^4$<br>\n",
    "** $ \\sigma = 5,67*10^-8 W/m^2k^4$\n",
    "\n",
    "### Energibevaringsloven\n",
    "Energi kan verken oppstå eller forsvinne, bare omdannes.\n",
    "\n",
    "### Energien stråler ut\n",
    "\n",
    "\n"
   ],
   "cell_type": "code",
   "metadata": {},
   "execution_count": null,
   "outputs": []
  },
  {
   "cell_type": "code",
   "execution_count": 4,
   "metadata": {},
   "outputs": [
    {
     "output_type": "stream",
     "name": "stdout",
     "text": [
      "utstrålingen fra sola er 631965265.4602919 W/m^2*k^4\noverflaten til sola er 6.128351983619088e+20\n"
     ]
    }
   ],
   "source": [
    "#Solkonstanten\n",
    "import math\n",
    "\n",
    "temp_sol = 5778\n",
    "r_sol = 698340*10E3\n",
    "stefan_konstant = 5.67*10E-8\n",
    "\n",
    "print(f'utstrålingen fra sola er {stefan_konstant*temp_sol**4} W/m^2*k^4')\n",
    "print(f'overflaten til sola er {4*math.pi*r_sol**2}')\n"
   ]
  },
  {
   "cell_type": "code",
   "execution_count": null,
   "metadata": {},
   "outputs": [],
   "source": []
  }
 ]
}