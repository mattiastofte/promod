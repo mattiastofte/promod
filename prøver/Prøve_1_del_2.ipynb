{
 "metadata": {
  "language_info": {
   "codemirror_mode": {
    "name": "ipython",
    "version": 3
   },
   "file_extension": ".py",
   "mimetype": "text/x-python",
   "name": "python",
   "nbconvert_exporter": "python",
   "pygments_lexer": "ipython3",
   "version": "3.8.0-final"
  },
  "orig_nbformat": 2,
  "kernelspec": {
   "name": "Python 3.8.0 32-bit",
   "display_name": "Python 3.8.0 32-bit",
   "metadata": {
    "interpreter": {
     "hash": "20eaf9ab0972e0b325ea0486176976031b1d6e9c323345e3ed489917437a05c4"
    }
   }
  }
 },
 "nbformat": 4,
 "nbformat_minor": 2,
 "cells": [
  {
   "cell_type": "code",
   "execution_count": 46,
   "metadata": {},
   "outputs": [
    {
     "output_type": "stream",
     "name": "stdout",
     "text": [
      "Stjerna er rødforskjøvet og har en fart på 2158273 m/s\nStjerna er rødforskjøvet og har en fart på 18367347 m/s\nStjerna er blåforskjøvet og har en fart på -5240175 m/s\nStjerna er blåforskjøvet og har en fart på -16121495 m/s\nStjerna er rødforskjøvet og har en fart på 11320755 m/s\nStjerna er rødforskjøvet og har en fart på 751880 m/s\n"
     ]
    }
   ],
   "source": [
    "# OPPGAVE 3\n",
    "from pylab import *\n",
    "\n",
    "bl_0 = array([278,490,687,856,954,399]) # nm \n",
    "bl = array([280,520,675,810,990,400]) # nm\n",
    "c = 3E8 # lyshastighet i m/s\n",
    "\n",
    "def fart(a,b):  # definerer en funksjon med parametere a (observert bl) og b (teoretisk bølgelengde)\n",
    "    a = a*1E-9\n",
    "    b = b*1E-9\n",
    "    v = ((a-b)/b)*c\n",
    "    return v \n",
    "\n",
    "for elem in list(fart(bl,bl_0)):\n",
    "    try: \n",
    "        if elem > 0:\n",
    "            print(\"Stjerna er rødforskjøvet og har en fart på\",round(elem),\"m/s\")\n",
    "        else:\n",
    "            print(\"Stjerna er blåforskjøvet og har en fart på\",round(elem),\"m/s\")\n",
    "    except:\n",
    "        print(\"Bølgelengden kan ikke være null, stupid :I\")\n",
    "\n",
    "# ittererer gjennom elementene i en liste fra funksjonen fart med arrayene bl og bl_0 som input. bruker logiske operatorer for å se om farten er positiv eller negativ"
   ]
  },
  {
   "cell_type": "code",
   "execution_count": 44,
   "metadata": {},
   "outputs": [
    {
     "output_type": "stream",
     "name": "stdout",
     "text": [
      "Reaksjonen er ikke i livekt, går mot høyre.\n"
     ]
    },
    {
     "output_type": "execute_result",
     "data": {
      "text/plain": [
       "8.0"
      ]
     },
     "metadata": {},
     "execution_count": 44
    }
   ],
   "source": [
    "# OPPGAVE 4\n",
    "\n",
    "# konsentrasjoner\n",
    "\n",
    "A = 0.1  # H_2 i mol/L\n",
    "B = 0.2  # I_2 i mol/L\n",
    "C = 0.4  # HI i mol/L\n",
    "\n",
    "# koeffisienter\n",
    "\n",
    "a = 1\n",
    "b = 1\n",
    "c = 2\n",
    "\n",
    "# likevektskonstant\n",
    "\n",
    "K = 250\n",
    "\n",
    "def Q(A,B,C,a,b,c):\n",
    "    x = (C**c)/((A**a)*(B**b))\n",
    "    if x == K:\n",
    "        print(\"Reaksjonen er i likevekt! :D\")\n",
    "    elif x > K:\n",
    "        print(\"Reaksjonen er ikke i likevekt, går mot venstre.\")\n",
    "    else:\n",
    "        print(\"Reaksjonen er ikke i livekt, går mot høyre.\")\n",
    "    return x\n",
    "\n",
    "Q(A,B,C,a,b,c)"
   ]
  },
  {
   "cell_type": "code",
   "execution_count": 47,
   "metadata": {},
   "outputs": [],
   "source": []
  },
  {
   "cell_type": "code",
   "execution_count": null,
   "metadata": {},
   "outputs": [],
   "source": []
  }
 ]
}