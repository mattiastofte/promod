{
 "metadata": {
  "language_info": {
   "codemirror_mode": {
    "name": "ipython",
    "version": 3
   },
   "file_extension": ".py",
   "mimetype": "text/x-python",
   "name": "python",
   "nbconvert_exporter": "python",
   "pygments_lexer": "ipython3",
   "version": 3
  },
  "orig_nbformat": 2
 },
 "nbformat": 4,
 "nbformat_minor": 2,
 "cells": [
  {
   "source": [
    "# Statistikk oppgave"
   ],
   "cell_type": "markdown",
   "metadata": {}
  },
  {
   "source": [
    "I denne oppgaven brukte gruppa en app til å samle inn **data** fra **akselometeren** i mobilen (iphone 11). Ved å **databehandle** denne dataen kunne vi komme fram til omtrent hvor mange skritt som ble tatt, omtrent hvor langt personen gikk. I tilegg kunne vi finne **gjennomsnittlig** akselerasjon og gjøre en **regresjon** for akselerasjonen (som kan brukes til å studere bevegelsen)"
   ],
   "cell_type": "markdown",
   "metadata": {}
  },
  {
   "source": [
    "Man kunne finne hvor langt personen hadde gått ved å ta ett numerisk integral av akselerasjonen fremover. Dette kan gjøres med formen:\n",
    "$\\sum_{i=0}^{n-1}*h*f(x_1)$"
   ],
   "cell_type": "markdown",
   "metadata": {}
  },
  {
   "cell_type": "code",
   "execution_count": null,
   "metadata": {},
   "outputs": [],
   "source": [
    "    from pylab import *\n",
    "    data = loadtxt('data.csv',skiprows=1,delimiter=\",\")\n",
    "tid = data[:,0]\n",
    "total_tid = list(tid)\n",
    "total_tid = tid[-1]\n",
    "a_z = data[:,3]\n",
    "a_y = data[:,2]\n",
    "\n",
    "def integral(a,b):\n",
    "    A = 0\n",
    "    a = list(a)\n",
    "    b = list(b)\n",
    "    h = (b[-1]-b[0])/len(b)\n",
    "    for i in range(0,len(b)-1):\n",
    "        A += ((h*(a[i]+a[i+1]))/2)\n",
    "    return A\n",
    "\n",
    "trigger = False\n",
    "skritt = 0\n",
    "\n",
    "for i in a_z:\n",
    "    if i > 2:\n",
    "        if trigger == False: \n",
    "            skritt += 1\n",
    "            trigger = True\n",
    "        else:\n",
    "            pass\n",
    "    elif i < 0:\n",
    "        trigger = False\n",
    "\n",
    "v = round(integral(a_y,tid),4)\n",
    "s = round(v*total_tid,4)\n",
    "print(\"personen tokk\",skritt,\"skritt\")\n",
    "print(\"gjennom turen hadde han en gjennomsnittsfart på\",v,\"m/s\")\n",
    "print(\"han gikk omtrent\",s,\"meter\")\n",
    "\n",
    "\n",
    "plot(tid,a_z,color=\"crimson\",label=\"a oppover\")\n",
    "plot(tid,a_y,color=\"cyan\",label=\"a fremover\")\n",
    "ylabel(\"akselerasjon i m/s\")\n",
    "xlabel(\"tid i s\")\n",
    "legend()\n"
   ]
  }
 ]
}