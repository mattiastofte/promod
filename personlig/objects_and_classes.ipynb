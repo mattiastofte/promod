{
 "metadata": {
  "language_info": {
   "codemirror_mode": {
    "name": "ipython",
    "version": 3
   },
   "file_extension": ".py",
   "mimetype": "text/x-python",
   "name": "python",
   "nbconvert_exporter": "python",
   "pygments_lexer": "ipython3",
   "version": "3.8.0-final"
  },
  "orig_nbformat": 2,
  "kernelspec": {
   "name": "Python 3.8.0 32-bit",
   "display_name": "Python 3.8.0 32-bit",
   "metadata": {
    "interpreter": {
     "hash": "20eaf9ab0972e0b325ea0486176976031b1d6e9c323345e3ed489917437a05c4"
    }
   }
  }
 },
 "nbformat": 4,
 "nbformat_minor": 2,
 "cells": [
  {
   "source": [
    "<h3>objects & classes</h3>\n"
   ],
   "cell_type": "markdown",
   "metadata": {}
  },
  {
   "cell_type": "code",
   "execution_count": 1,
   "metadata": {},
   "outputs": [
    {
     "output_type": "stream",
     "name": "stdout",
     "text": [
      "HELLO\n"
     ]
    }
   ],
   "source": [
    "string = \"hello\"\n",
    "print(string.upper())"
   ]
  },
  {
   "source": [
    "'.(arguments)' symbolises a method, that is acting on a object."
   ],
   "cell_type": "markdown",
   "metadata": {}
  },
  {
   "cell_type": "code",
   "execution_count": 6,
   "metadata": {},
   "outputs": [
    {
     "output_type": "stream",
     "name": "stdout",
     "text": [
      "Tim\nTim\nbark!\n23\n6\n"
     ]
    }
   ],
   "source": [
    "class Dog: # defines a class called Dog\n",
    "\n",
    "    def __init__(self, name):\n",
    "        self.name = name # we created an atribute of the class dog, which is name\n",
    "        print(name)\n",
    "\n",
    "    def add_one(self, x):\n",
    "        return x+1\n",
    "\n",
    "    def bark(self):\n",
    "        print(\"bark!\")\n",
    "    \n",
    "    def set_age(self, age):\n",
    "        self.age = age\n",
    "\n",
    "\n",
    "d = Dog(\"Tim\") # initiating the variable d as class Dog\n",
    "print(d.name) # prints self.name\n",
    "d.bark()\n",
    "d.set_age(23)\n",
    "print(d.age)\n",
    "print(d.add_one(5))"
   ]
  },
  {
   "cell_type": "code",
   "execution_count": 17,
   "metadata": {},
   "outputs": [
    {
     "output_type": "stream",
     "name": "stdout",
     "text": [
      "No more capacity for Jill\nTim\n85.0\n"
     ]
    }
   ],
   "source": [
    "class Student:\n",
    "    def __init__(self, name, age, grade):\n",
    "        self.name = name\n",
    "        self.age = age\n",
    "        self.grade = grade  # 0 - 100\n",
    "\n",
    "    def get_grade(self):\n",
    "        return self.grade\n",
    "    \n",
    "class Course:\n",
    "    def __init__(self, name, max_students):\n",
    "        self.name = name\n",
    "        self.max_students = max_students\n",
    "        self.students = []\n",
    "    \n",
    "    def add_student(self, student):\n",
    "        if len(self.students) < self.max_students:\n",
    "            self.students.append(student)\n",
    "            return True\n",
    "        else:\n",
    "            print(\"No more capacity for\",student.name)\n",
    "            return False\n",
    "    \n",
    "    def get_avarage_grade(self):\n",
    "        value = 0\n",
    "        for student in self.students:\n",
    "            value += student.get_grade()\n",
    "\n",
    "        return value / len(self.students)\n",
    "\n",
    "s1 = Student(\"Tim\",19,95)\n",
    "s2 = Student(\"Bill\",19,75)\n",
    "s3 = Student(\"Jill\",19,65)\n",
    "\n",
    "course = Course(\"science\", 2)\n",
    "course.add_student(s1)\n",
    "course.add_student(s2)\n",
    "course.add_student(s3)\n",
    "print(course.students[0].name)\n",
    "print(course.get_avarage_grade())\n"
   ]
  },
  {
   "cell_type": "code",
   "execution_count": 20,
   "metadata": {},
   "outputs": [
    {
     "output_type": "stream",
     "name": "stdout",
     "text": [
      "I am Tim and i am 19 years old\nI am Bill and i am 34 years old\nI am Jill and i am 35 years old\nMeow\nBark\n"
     ]
    }
   ],
   "source": [
    "class Pet: # Generalazation\n",
    "    def __init__(self, name, age):\n",
    "        self.name = name\n",
    "        self.age = age\n",
    "    \n",
    "    def show(self):\n",
    "        print(f\"I am {self.name} and i am {self.age} years old\")\n",
    "    \n",
    "    def speak(self):\n",
    "        print(\"I don't know what I say\")\n",
    "\n",
    "class Cat(Pet):\n",
    "    def __init__(self,name,age,color):\n",
    "        super().__init__(name, age)\n",
    "        self.color = color\n",
    "\n",
    "    def speak(self):\n",
    "        print(\"Meow\")\n",
    "\n",
    "class Dog(Pet):\n",
    "    def speak(self):\n",
    "        print(\"Bark\")\n",
    "\n",
    "p = Pet(\"Tim\",19)\n",
    "p.show()\n",
    "\n",
    "c = Cat(\"Bill\",34)\n",
    "c.show()\n",
    "\n",
    "d = Dog(\"Jill\",35)\n",
    "d.show()\n",
    "\n",
    "p.speak()\n",
    "c.speak() # overide p.speak()\n",
    "d.speak()"
   ]
  },
  {
   "cell_type": "code",
   "execution_count": null,
   "metadata": {},
   "outputs": [],
   "source": []
  }
 ]
}